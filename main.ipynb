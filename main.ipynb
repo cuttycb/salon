{
 "cells": [
  {
   "cell_type": "code",
   "execution_count": 1,
   "metadata": {},
   "outputs": [],
   "source": [
    "import easydict\n",
    "# import argparse\n",
    "import traceback\n",
    "import shutil\n",
    "import logging\n",
    "import yaml\n",
    "import sys\n",
    "import os\n",
    "import torch\n",
    "import numpy as np\n",
    "# import torch.utils.tensorboard as tb\n",
    "import copy\n",
    "\n",
    "from runner import Diffusion"
   ]
  },
  {
   "cell_type": "code",
   "execution_count": 2,
   "metadata": {},
   "outputs": [],
   "source": [
    "def make_parse_args(img_name):\n",
    "    args = easydict.EasyDict({'seed': 1234, \n",
    "                              'exp': 'exp', \n",
    "                              'comment': '', \n",
    "                              'verbose': 'info', \n",
    "                              'sample': 'store_true', \n",
    "                              'i': 'images', \n",
    "                              'image_folder': img_name, \n",
    "                              'ni': 'store_true', \n",
    "                              'sample_step': 6, \n",
    "                              't': 300})\n",
    "\n",
    "    level = getattr(logging, args.verbose.upper(), None)\n",
    "    if not isinstance(level, int):\n",
    "        raise ValueError('level {} not supported'.format(args.verbose))\n",
    "\n",
    "    handler1 = logging.StreamHandler()\n",
    "    formatter = logging.Formatter('%(levelname)s - %(filename)s - %(asctime)s - %(message)s')\n",
    "    handler1.setFormatter(formatter)\n",
    "    logger = logging.getLogger()\n",
    "    logger.addHandler(handler1)\n",
    "    logger.setLevel(level)\n",
    "\n",
    "    os.makedirs(os.path.join(args.exp, 'image_samples'), exist_ok=True)\n",
    "    args.image_folder = os.path.join(args.exp, 'image_samples', args.image_folder)\n",
    "    if not os.path.exists(args.image_folder):\n",
    "        os.makedirs(args.image_folder)\n",
    "    else:\n",
    "        overwrite = False\n",
    "        if args.ni:\n",
    "            overwrite = True\n",
    "        else:\n",
    "            response = input(\"Image folder already exists. Overwrite? (Y/N)\")\n",
    "            if response.upper() == 'Y':\n",
    "                overwrite = True\n",
    "\n",
    "        if overwrite:\n",
    "            shutil.rmtree(args.image_folder)\n",
    "            os.makedirs(args.image_folder)\n",
    "        else:\n",
    "            print(\"Output image folder exists. Program halted.\")\n",
    "            sys.exit(0)\n",
    "\n",
    "    # add device\n",
    "    device = torch.device('cuda') if torch.cuda.is_available() else torch.device('cpu')\n",
    "    logging.info(\"Using device: {}\".format(device))\n",
    "\n",
    "    # set random seed\n",
    "    torch.manual_seed(args.seed)\n",
    "    np.random.seed(args.seed)\n",
    "    if torch.cuda.is_available():\n",
    "        torch.cuda.manual_seed_all(args.seed)\n",
    "\n",
    "    torch.backends.cudnn.benchmark = True\n",
    "\n",
    "    return args"
   ]
  },
  {
   "cell_type": "code",
   "execution_count": 3,
   "metadata": {},
   "outputs": [
    {
     "name": "stderr",
     "output_type": "stream",
     "text": [
      "INFO - <ipython-input-2-46d5e0644300> - 2023-06-08 09:53:08,730 - Using device: cuda\n"
     ]
    },
    {
     "name": "stdout",
     "output_type": "stream",
     "text": [
      "Loading model\n"
     ]
    },
    {
     "name": "stderr",
     "output_type": "stream",
     "text": [
      "/home/mskang/.local/lib/python3.6/site-packages/torch/nn/parallel/data_parallel.py:30: UserWarning: \n",
      "    There is an imbalance between your GPUs. You may want to exclude GPU 0 which\n",
      "    has less than 75% of the memory or cores of GPU 1. You can do so by setting\n",
      "    the device_ids argument to DataParallel, or by setting the CUDA_VISIBLE_DEVICES\n",
      "    environment variable.\n",
      "  warnings.warn(imbalance_warn.format(device_ids[min_pos], device_ids[max_pos]))\n"
     ]
    },
    {
     "name": "stdout",
     "output_type": "stream",
     "text": [
      "Model loaded\n",
      "Start sampling\n"
     ]
    },
    {
     "name": "stderr",
     "output_type": "stream",
     "text": [
      "Iteration 0:   0%|          | 0/300 [00:00<?, ?it/s]/home/mskang/soshin/Capstone/utils/diffusion_util.py:23: UserWarning: To copy construct from a tensor, it is recommended to use sourceTensor.clone().detach() or sourceTensor.clone().detach().requires_grad_(True), rather than torch.tensor(sourceTensor).\n",
      "  out = torch.gather(torch.tensor(a, dtype=torch.float, device=t.device), 0, t.long())\n",
      "Iteration 0: 100%|██████████| 300/300 [00:52<00:00,  5.67it/s]\n",
      "Iteration 1: 100%|██████████| 300/300 [00:43<00:00,  6.94it/s]\n",
      "Iteration 2: 100%|██████████| 300/300 [00:43<00:00,  6.94it/s]\n",
      "Iteration 3: 100%|██████████| 300/300 [00:43<00:00,  6.92it/s]\n",
      "Iteration 4: 100%|██████████| 300/300 [00:43<00:00,  6.90it/s]\n",
      "Iteration 5: 100%|██████████| 300/300 [00:43<00:00,  6.91it/s]\n"
     ]
    }
   ],
   "source": [
    "config = \"celeba.yml\"\n",
    "origin_img = \"source_images/real_images/one_young.jpg\"\n",
    "stroked_img = \"source_images/stroked_images/stroked_one_young.jpg\"\n",
    "img_name = stroked_img.split('/')[-1]\n",
    "img_name = img_name[:-4]\n",
    "\n",
    "args = make_parse_args(img_name)\n",
    "\n",
    "\n",
    "try:\n",
    "    runner = Diffusion(args, config, origin_img, stroked_img)\n",
    "    runner.image_editing_sample()\n",
    "except Exception:\n",
    "    logging.error(traceback.format_exc())"
   ]
  }
 ],
 "metadata": {
  "kernelspec": {
   "display_name": "Python 3",
   "language": "python",
   "name": "python3"
  },
  "language_info": {
   "codemirror_mode": {
    "name": "ipython",
    "version": 3
   },
   "file_extension": ".py",
   "mimetype": "text/x-python",
   "name": "python",
   "nbconvert_exporter": "python",
   "pygments_lexer": "ipython3",
   "version": "3.6.7"
  }
 },
 "nbformat": 4,
 "nbformat_minor": 2
}
